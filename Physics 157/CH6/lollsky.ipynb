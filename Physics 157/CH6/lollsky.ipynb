{
 "cells": [
  {
   "cell_type": "code",
   "execution_count": null,
   "metadata": {
    "vscode": {
     "languageId": "plaintext"
    }
   },
   "outputs": [],
   "source": [
    "## Dimensionality Reduction\n",
    "\n",
    "# ------- IMPORTS --------\n",
    "import numpy as np\n",
    "import matplotlib.pyplot as plt\n",
    "import scipy as sp \n",
    "# ------------------------ \n",
    "\n",
    "# For aesthetic plots\n",
    "def science_plot(fontsize = 9):\n",
    "    import scienceplots\n",
    "    plt.style.use(['science','grid','notebook'])\n",
    "    plt.rcParams.update({\n",
    "        'font.size'       : fontsize,    # General font size\n",
    "        'axes.titlesize'  : fontsize,    # Font size of the axes title\n",
    "        'axes.labelsize'  : fontsize,    # Font size of the axes labels\n",
    "        'xtick.labelsize' : fontsize,    # Font size of the x-axis tick labels\n",
    "        'ytick.labelsize' : fontsize,    # Font size of the y-axis tick labels\n",
    "        'legend.fontsize' : fontsize,    # Font size of the legend\n",
    "        'figure.titlesize': fontsize,    # Font size of the figure title\n",
    "        'legend.fancybox' : False,       # Disable the fancy box for legend\n",
    "        'legend.edgecolor': 'k',         # Set legend border color to black\n",
    "        'text.usetex'     : True,        # Use LaTeX for text rendering\n",
    "        'font.family'     : 'serif'      # Set font family to serif\n",
    "    })\n",
    "science_plot()\n",
    "\n"
   ]
  }
 ],
 "metadata": {
  "language_info": {
   "name": "python"
  }
 },
 "nbformat": 4,
 "nbformat_minor": 2
}
