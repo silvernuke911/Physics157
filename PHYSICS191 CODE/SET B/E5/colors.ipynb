{
 "cells": [
  {
   "cell_type": "code",
   "execution_count": 2,
   "metadata": {},
   "outputs": [],
   "source": [
    "import numpy as np\n",
    "import matplotlib.pyplot as plt\n",
    "import pandas as pd\n",
    "\n",
    "def science_plot(fontsize = 9):\n",
    "    import scienceplots\n",
    "    plt.style.use(['science','grid','notebook'])\n",
    "    plt.rcParams.update({\n",
    "        'font.size'       : fontsize,    # General font size\n",
    "        'axes.titlesize'  : fontsize,    # Font size of the axes title\n",
    "        'axes.labelsize'  : fontsize,    # Font size of the axes labels\n",
    "        'xtick.labelsize' : fontsize,    # Font size of the x-axis tick labels\n",
    "        'ytick.labelsize' : fontsize,    # Font size of the y-axis tick labels\n",
    "        'legend.fontsize' : fontsize,    # Font size of the legend\n",
    "        'figure.titlesize': fontsize,    # Font size of the figure title\n",
    "        'legend.fancybox' : False,       # Disable the fancy box for legend\n",
    "        'legend.edgecolor': 'k',         # Set legend border color to black\n",
    "        'text.usetex'     : True,        # Use LaTeX for text rendering\n",
    "        'font.family'     : 'serif'      # Set font family to serif\n",
    "    })\n",
    "# science_plot() \n",
    "import cv2"
   ]
  },
  {
   "cell_type": "code",
   "execution_count": null,
   "metadata": {},
   "outputs": [],
   "source": []
  },
  {
   "cell_type": "code",
   "execution_count": 5,
   "metadata": {},
   "outputs": [],
   "source": [
    "\n",
    "def average3 (\n",
    "        img1_path,\n",
    "        img2_path,\n",
    "        img3_path,\n",
    "        filename, \n",
    "        display = True\n",
    "    ):\n",
    "    # Load images\n",
    "    img1 = cv2.imread(img1_path)\n",
    "    img2 = cv2.imread(img2_path)\n",
    "    img3 = cv2.imread(img3_path)\n",
    "\n",
    "    # Convert images to float for averaging\n",
    "    img1 = img1.astype(np.float32)\n",
    "    img2 = img2.astype(np.float32)\n",
    "    img3 = img3.astype(np.float32)\n",
    "\n",
    "    # Compute the average\n",
    "    avg_img = (img1 + img2 + img3) / 3\n",
    "\n",
    "    # Convert back to uint8\n",
    "    avg_img = np.clip(avg_img, 0, 255).astype(np.uint8)\n",
    "\n",
    "    if display:\n",
    "        # Save or display the result\n",
    "        cv2.imwrite(f\"{filename}.png\", avg_img)\n",
    "        plt.imshow(f\"{filename}.png\", avg_img)\n",
    "    return avg_img\n",
    "\n",
    "def return_rgb(img, pos):\n",
    "    y, x = pos  # y is the row (height), x is the column (width)\n",
    "    return img[y, x]  # Proper indexing for images"
   ]
  }
 ],
 "metadata": {
  "kernelspec": {
   "display_name": "Python 3",
   "language": "python",
   "name": "python3"
  },
  "language_info": {
   "codemirror_mode": {
    "name": "ipython",
    "version": 3
   },
   "file_extension": ".py",
   "mimetype": "text/x-python",
   "name": "python",
   "nbconvert_exporter": "python",
   "pygments_lexer": "ipython3",
   "version": "3.12.3"
  }
 },
 "nbformat": 4,
 "nbformat_minor": 2
}
