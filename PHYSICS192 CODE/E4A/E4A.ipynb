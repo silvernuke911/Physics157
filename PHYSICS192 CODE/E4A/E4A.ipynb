{
 "cells": [
  {
   "cell_type": "markdown",
   "id": "8860a32b",
   "metadata": {},
   "source": [
    "# Physics 192.1 Experiment 4 Set A\n",
    "\n",
    "We determine the groove spacing of given CDs and DVDs using the grating equation [[1](https://en.wikipedia.org/wiki/Diffraction_grating#Theory_of_operation)]\n",
    "\n",
    "$$\n",
    "    d \\sin \\theta = n \\lambda\n",
    "$$\n",
    "\n",
    "where \n",
    "- $d$ is the spacing between the slits\n",
    "- $\\theta$ is the $n$-th order diffraction angle\n",
    "- $n$ is the order of diffraction $n = 1,2,3 ...$\n",
    "- $\\lambda$ is the wavelength of light\n",
    "\n"
   ]
  },
  {
   "cell_type": "code",
   "execution_count": 37,
   "id": "2520f8d6",
   "metadata": {},
   "outputs": [],
   "source": [
    "# ----------------------------------- #\n",
    "#              IMPORTS\n",
    "# ----------------------------------- #\n",
    "\n",
    "import numpy as np\n",
    "import matplotlib.pyplot as plt\n",
    "import pandas as pd \n",
    "\n",
    "# for aesthetic plots\n",
    "def science_plot(fontsize=9, scistyle=True, show_latex=True):\n",
    "    # Default settings (applied to both 2D and 3D)\n",
    "    if scistyle:\n",
    "        import scienceplots\n",
    "        plt.style.use(['science','grid','notebook'])\n",
    "    if show_latex:\n",
    "        plt.rcParams.update({\n",
    "            # Latex Use\n",
    "            'text.usetex'     : True,        # Use LaTeX for text rendering\n",
    "            'font.family'     : 'serif',     # Set font family to serif\n",
    "        })\n",
    "\n",
    "    plt.rcParams.update({\n",
    "        # Fontsizes\n",
    "        'font.size'       : fontsize,    # General font size\n",
    "        'axes.titlesize'  : fontsize,    # Font size of the axes title\n",
    "        'axes.labelsize'  : fontsize,    # Font size of the axes labels\n",
    "        'xtick.labelsize' : fontsize,    # Font size of the x-axis tick labels\n",
    "        'ytick.labelsize' : fontsize,    # Font size of the y-axis tick labels\n",
    "        'legend.fontsize' : fontsize,    # Font size of the legend\n",
    "        'figure.titlesize': fontsize,    # Font size of the figure title\n",
    "\n",
    "        # Legend\n",
    "        'legend.fancybox' : False,       # Disable the fancy box for legend\n",
    "        'legend.edgecolor': 'k',         # Set legend border color to black\n",
    "    })\n",
    "\n",
    "    def optional():\n",
    "        # # Grid settings\n",
    "        # \"grid.linestyle\": \"--\",\n",
    "        # \"grid.color\": \"gray\",\n",
    "        # \"grid.linewidth\": 1,\n",
    "        # \"axes.grid\": True,\n",
    "\n",
    "        # # Minor grid (default, but may be overridden for 3D)\n",
    "        # \"xtick.minor.visible\": True,\n",
    "        # \"ytick.minor.visible\": True,\n",
    "\n",
    "        # # Tick settings (both major & minor)\n",
    "        # \"xtick.direction\": \"in\",\n",
    "        # \"ytick.direction\": \"in\",\n",
    "        # \"xtick.top\": True,\n",
    "        # \"xtick.bottom\": True,\n",
    "        # \"ytick.left\": True,\n",
    "        # \"ytick.right\": True,\n",
    "\n",
    "        # 'colorbar.ticks.direction': 'out',\n",
    "\n",
    "        # # Major ticks\n",
    "        # \"xtick.major.width\": 1,\n",
    "        # \"ytick.major.width\": 1,\n",
    "        # \"xtick.major.size\": 5,\n",
    "        # \"ytick.major.size\": 5,\n",
    "\n",
    "        # # Minor ticks\n",
    "        # \"xtick.minor.width\": 1,\n",
    "        # \"ytick.minor.width\": 1,\n",
    "        # \"xtick.minor.size\": 2.5,\n",
    "        # \"ytick.minor.size\": 2.5,\n",
    "\n",
    "        # # Spine (border) width\n",
    "        # \"axes.linewidth\": 1\n",
    "        pass \n",
    "\n",
    "science_plot(fontsize=9)"
   ]
  },
  {
   "cell_type": "markdown",
   "id": "7cc7c709",
   "metadata": {},
   "source": [
    "Here we have the raw data, with `distance` being the distance of the disc from the wall, `L1` and `R1` showing the distance of the left and right fringes from the central beam, and the number being the order of the fringe (`R2`). All units are in $\\text{cm}$, with an uncertainty of $\\pm 0.1 \\text{ cm}$"
   ]
  },
  {
   "cell_type": "code",
   "execution_count": 38,
   "id": "329aaa41",
   "metadata": {},
   "outputs": [
    {
     "name": "stdout",
     "output_type": "stream",
     "text": [
      "  type  distance    R1    R2    L1    L2\n",
      "0  DVD      55.1  90.8   NaN  90.8   NaN\n",
      "1  DVD      27.5  45.4   NaN  45.2   NaN\n",
      "2  DVD      29.0  47.8   NaN  47.5   NaN\n",
      "3  DVD      19.2  31.9   NaN  31.4   NaN\n",
      "4  DVD      11.1  18.2   NaN  18.1   NaN\n",
      "5   CD      69.3  29.2  84.9  29.8  89.4\n",
      "6   CD      38.1  16.4  48.4  16.1  47.5\n",
      "7   CD      38.0  16.2  48.5  16.2  46.7\n",
      "8   CD      40.3  17.2  50.0  17.2  50.7\n",
      "9   CD      18.5   7.9  23.1   7.9  23.0\n"
     ]
    }
   ],
   "source": [
    "df = pd.read_csv(\"data.csv\")\n",
    "print(df)"
   ]
  },
  {
   "cell_type": "markdown",
   "id": "8bdd1a66",
   "metadata": {},
   "source": [
    "We get the diffraction angle $\\theta$ using the arctangent function\n",
    "\n",
    "$$\n",
    "    \\theta = \\tan^{-1} \\left( \\frac{\\delta}{\\ell} \\right)\n",
    "$$\n",
    "\n",
    "Where $\\delta$ is the distance of the difractor from the wall and $\\ell$ being the distance of the fringe from the central beam"
   ]
  },
  {
   "cell_type": "code",
   "execution_count": 39,
   "id": "303c04a7",
   "metadata": {},
   "outputs": [
    {
     "name": "stdout",
     "output_type": "stream",
     "text": [
      "   thetaR1 deg  thetaR2 deg  thetaL1 deg  thetaL2 deg\n",
      "0    58.749443          NaN    58.749443          NaN\n",
      "1    58.795584          NaN    58.683373          NaN\n",
      "2    58.755039          NaN    58.594836          NaN\n",
      "3    58.957069          NaN    58.555675          NaN\n",
      "4    58.621398          NaN    58.480890          NaN\n",
      "5    22.848437    50.776805    23.268403    52.218310\n",
      "6    23.289277    51.790530    22.907567    51.266717\n",
      "7    23.089317    51.921118    23.089317    50.864596\n",
      "8    23.112741    51.131186    23.112741    51.519802\n",
      "9    23.123792    51.309957    23.123792    51.188616\n"
     ]
    }
   ],
   "source": [
    "# Angles in radians \n",
    "df['thetaR1'] = np.arctan(df['R1'] / df['distance'])\n",
    "df['thetaR2'] = np.arctan(df['R2'] / df['distance'])\n",
    "df['thetaL1'] = np.arctan(df['L1'] / df['distance'])\n",
    "df['thetaL2'] = np.arctan(df['L2'] / df['distance'])\n",
    "# Angles in degrees\n",
    "thetaR1deg = np.rad2deg(df['thetaR1'])\n",
    "thetaR2deg = np.rad2deg(df['thetaR2'])\n",
    "thetaL1deg = np.rad2deg(df['thetaL1'])\n",
    "thetaL2deg = np.rad2deg(df['thetaL2'])\n",
    "\n",
    "deg_df = pd.DataFrame({\n",
    "    'thetaR1 deg': thetaR1deg,\n",
    "    'thetaR2 deg': thetaR2deg,\n",
    "    'thetaL1 deg': thetaL1deg,\n",
    "    'thetaL2 deg': thetaL2deg\n",
    "})\n",
    "print(deg_df)"
   ]
  },
  {
   "cell_type": "markdown",
   "id": "05933ac7",
   "metadata": {},
   "source": [
    "The equipment used was a $\\text{He-Ne}$ laser, which has a known light wavelength of $\\lambda = 632.8 \\text{ nm}$\n",
    "\n",
    "Using that, we can solve for the grating spacing using \n",
    "$$\n",
    "    d = \\frac{n\\lambda}{\\sin\\theta}\n",
    "$$\n",
    "\n",
    "We group the fringes by order, then take the average of each row."
   ]
  },
  {
   "cell_type": "code",
   "execution_count": 43,
   "id": "1facd215",
   "metadata": {},
   "outputs": [
    {
     "name": "stdout",
     "output_type": "stream",
     "text": [
      "   d_thetaR1  d_thetaL1  d_thetaR2  d_thetaL2  d_row_mean\n",
      "0 0.00007402 0.00007402        NaN        NaN  0.00007402\n",
      "1 0.00007398 0.00007407        NaN        NaN  0.00007403\n",
      "2 0.00007402 0.00007414        NaN        NaN  0.00007408\n",
      "3 0.00007386 0.00007417        NaN        NaN  0.00007402\n",
      "4 0.00007412 0.00007423        NaN        NaN  0.00007418\n",
      "5 0.00016297 0.00016019 0.00016337 0.00016013  0.00016166\n",
      "6 0.00016005 0.00016257 0.00016107 0.00016224  0.00016148\n",
      "7 0.00016136 0.00016136 0.00016078 0.00016316  0.00016167\n",
      "8 0.00016121 0.00016121 0.00016255 0.00016167  0.00016166\n",
      "9 0.00016113 0.00016113 0.00016214 0.00016242  0.00016171\n"
     ]
    }
   ],
   "source": [
    "# Wavelength in cm\n",
    "lambda_cm = 632.8e-7  # 632.8 nm = 6.328e-5 cm\n",
    "\n",
    "## All units are in cm measure\n",
    "# Grating spacing d = m* lambda / sin theta\n",
    "order_map = {'thetaR1':1, 'thetaL1':1, 'thetaR2':2, 'thetaL2':2}\n",
    "for ang_col, n in order_map.items():\n",
    "    dcol = f'd_{ang_col}'\n",
    "    df[dcol] = n * lambda_cm / np.sin(df[ang_col])\n",
    "\n",
    "# Row averages\n",
    "d_cols = [c for c in df.columns if c.startswith('d_')]\n",
    "df['d_row_mean'] = df[d_cols].mean(axis=1, skipna=True)\n",
    "\n",
    "pd.set_option('display.float_format', '{:.8f}'.format)\n",
    "print(df[d_cols])"
   ]
  },
  {
   "cell_type": "markdown",
   "id": "35a9baa9",
   "metadata": {},
   "source": [
    "We take the average of the result by type"
   ]
  },
  {
   "cell_type": "code",
   "execution_count": null,
   "id": "0d847bc3",
   "metadata": {},
   "outputs": [
    {
     "name": "stdout",
     "output_type": "stream",
     "text": [
      "  type  d_thetaR1  d_thetaL1  d_thetaR2  d_thetaL2  d_row_mean  d_row_mean\n",
      "0  DVD 0.00007402 0.00007402        NaN        NaN  0.00007402  0.00007402\n",
      "1  DVD 0.00007398 0.00007407        NaN        NaN  0.00007403  0.00007403\n",
      "2  DVD 0.00007402 0.00007414        NaN        NaN  0.00007408  0.00007408\n",
      "3  DVD 0.00007386 0.00007417        NaN        NaN  0.00007402  0.00007402\n",
      "4  DVD 0.00007412 0.00007423        NaN        NaN  0.00007418  0.00007418\n",
      "5   CD 0.00016297 0.00016019 0.00016337 0.00016013  0.00016166  0.00016166\n",
      "6   CD 0.00016005 0.00016257 0.00016107 0.00016224  0.00016148  0.00016148\n",
      "7   CD 0.00016136 0.00016136 0.00016078 0.00016316  0.00016167  0.00016167\n",
      "8   CD 0.00016121 0.00016121 0.00016255 0.00016167  0.00016166  0.00016166\n",
      "9   CD 0.00016113 0.00016113 0.00016214 0.00016242  0.00016171  0.00016171\n",
      "      d_mean_cm   d_std_cm  count\n",
      "type                             \n",
      "CD   0.00016164 0.00000009      5\n",
      "DVD  0.00007406 0.00000007      5\n"
     ]
    }
   ],
   "source": [
    "print(df[['type'] + d_cols + ['d_row_mean']])\n",
    "# Summary per type\n",
    "summary = (df.groupby('type')['d_row_mean']\n",
    "             .agg(['mean','std','count'])\n",
    "             .rename(columns={'mean':'d_mean_cm','std':'d_std_cm'}))\n",
    "print(\" \")\n",
    "print(summary)"
   ]
  },
  {
   "cell_type": "markdown",
   "id": "35f7d6d8",
   "metadata": {},
   "source": [
    "We transform the data to $\\text{nm}$, and take the $\\text{SDOM}$ for the uncertainty.\n",
    "\n",
    "We also calculate the grooves per $\\text{mm}$ of the result (taken using $0.1 / d$)"
   ]
  },
  {
   "cell_type": "code",
   "execution_count": null,
   "id": "8df1a36a",
   "metadata": {},
   "outputs": [
    {
     "name": "stdout",
     "output_type": "stream",
     "text": [
      "        d_mean_nm  d_sdom_nm  d_std_nm  grooves_per_mm\n",
      "type                                                  \n",
      "CD    1616.359594   0.391907  0.876330      618.674213\n",
      "DVD    740.634027   0.303630  0.678938     1350.194514\n"
     ]
    }
   ],
   "source": [
    "# Reset pandas display to default\n",
    "pd.reset_option('display.float_format')\n",
    "\n",
    "# --- Groove spacing in nm ---\n",
    "summary['d_mean_nm'] = summary['d_mean_cm'] * 1e7 # cm --> nm\n",
    "summary['d_std_nm'] = summary['d_std_cm'] * 1e7\n",
    "\n",
    "# sdom for d (in nm)\n",
    "summary['d_sdom_nm'] = summary['d_std_nm'] / np.sqrt(summary['count'])\n",
    "\n",
    "# --- Grooves per mm ---\n",
    "summary['grooves_per_mm'] = 0.1 / summary['d_mean_cm']\n",
    "\n",
    "# print data\n",
    "print(summary[['d_mean_nm','d_sdom_nm','d_std_nm','grooves_per_mm']])"
   ]
  },
  {
   "cell_type": "markdown",
   "id": "7b90878e",
   "metadata": {},
   "source": [
    "As such, we have final results of \n",
    "$$\n",
    "d_\\text{CD} = 1616.4 \\pm 0.4 \\text{ nm}\n",
    "$$\n",
    "\n",
    "and \n",
    "\n",
    "$$\n",
    "d_\\text{DVD} = 740.6 \\pm 0.3 \\text{ nm}\n",
    "$$\n",
    "\n",
    "The standard DVD and CD grooves per mm [[2](https://nnci.net/sites/default/files/2020-02/CD_DVD_Diffraction%20grating_Part%201_SG_answers_0.pdf)]\n",
    " is about 1350 tracks per mm for a DVD and about 625 tracks per mm for a CD, this translates to\n"
   ]
  },
  {
   "cell_type": "code",
   "execution_count": null,
   "id": "2c507801",
   "metadata": {},
   "outputs": [
    {
     "name": "stdout",
     "output_type": "stream",
     "text": [
      "d_CD = 1600.00\n",
      "d_DVD = 740.74\n"
     ]
    }
   ],
   "source": [
    "g_dvd = 1350\n",
    "g_cd = 625 \n",
    "d_dvd = 1/g_dvd * 1e6 # transform from mm to nm\n",
    "d_cd = 1/g_cd * 1e6\n",
    "\n",
    "summary['d_actual_nm'] = [d_cd,d_dvd]\n",
    "print(f'd_CD = {d_cd:.2f}')\n",
    "print(f'd_DVD = {d_dvd:.2f}')"
   ]
  },
  {
   "cell_type": "markdown",
   "id": "e6e72dca",
   "metadata": {},
   "source": [
    "Which indicatest that the calculated result has a percent error $\\epsilon$ of "
   ]
  },
  {
   "cell_type": "code",
   "execution_count": 72,
   "id": "423f061f",
   "metadata": {},
   "outputs": [
    {
     "name": "stdout",
     "output_type": "stream",
     "text": [
      "      d_actual_nm    d_mean_nm    eps\n",
      "type                                 \n",
      "CD    1600.000000  1616.359594  1.02%\n",
      "DVD    740.740741   740.634027  0.01%\n"
     ]
    }
   ],
   "source": [
    "summary['eps'] = 100 * np.abs((summary['d_actual_nm'] - summary['d_mean_nm']) / summary['d_actual_nm'])\n",
    "summary['eps'] = summary['eps'].apply(lambda x: f\"{x:.2f}%\")\n",
    "print(summary[['d_actual_nm', 'd_mean_nm', 'eps']])"
   ]
  },
  {
   "cell_type": "markdown",
   "id": "803e325c",
   "metadata": {},
   "source": [
    "Thus, we were able to determine the grating distance in both DVD and CD with very little error using the grating equation"
   ]
  }
 ],
 "metadata": {
  "kernelspec": {
   "display_name": "Python 3",
   "language": "python",
   "name": "python3"
  },
  "language_info": {
   "codemirror_mode": {
    "name": "ipython",
    "version": 3
   },
   "file_extension": ".py",
   "mimetype": "text/x-python",
   "name": "python",
   "nbconvert_exporter": "python",
   "pygments_lexer": "ipython3",
   "version": "3.12.3"
  }
 },
 "nbformat": 4,
 "nbformat_minor": 5
}
