{
 "cells": [
  {
   "cell_type": "code",
   "execution_count": 2,
   "id": "ac8c9451",
   "metadata": {},
   "outputs": [
    {
     "name": "stderr",
     "output_type": "stream",
     "text": [
      "C:\\Users\\verci\\AppData\\Local\\Temp\\ipykernel_1008\\3994602394.py:21: RuntimeWarning: overflow encountered in scalar add\n",
      "  return min(PALETTE, key=lambda c: sum((comp1 - comp2) ** 2 for comp1, comp2 in zip(rgb, c)))\n",
      "C:\\Users\\verci\\AppData\\Local\\Temp\\ipykernel_1008\\3994602394.py:21: RuntimeWarning: overflow encountered in scalar subtract\n",
      "  return min(PALETTE, key=lambda c: sum((comp1 - comp2) ** 2 for comp1, comp2 in zip(rgb, c)))\n"
     ]
    },
    {
     "name": "stdout",
     "output_type": "stream",
     "text": [
      "Saved 8-bit styled image to: shield1_8bit_style.png\n"
     ]
    }
   ],
   "source": [
    "from PIL import Image\n",
    "import numpy as np\n",
    "\n",
    "# 8-bit style palette (NES-inspired, can be expanded)\n",
    "PALETTE = [\n",
    "    (0, 0, 0),       # Black\n",
    "    (255, 255, 255), # White\n",
    "    (255, 0, 0),     # Red\n",
    "    (0, 255, 0),     # Green\n",
    "    (0, 0, 255),     # Blue\n",
    "    (255, 255, 0),   # Yellow\n",
    "    (255, 165, 0),   # Orange\n",
    "    (128, 0, 128),   # Purple\n",
    "    (0, 255, 255),   # Cyan\n",
    "    (128, 128, 128), # Gray\n",
    "    (139, 69, 19),   # Brown\n",
    "    (0, 128, 0),     # Dark green\n",
    "]\n",
    "\n",
    "def nearest_color(rgb):\n",
    "    return min(PALETTE, key=lambda c: sum((comp1 - comp2) ** 2 for comp1, comp2 in zip(rgb, c)))\n",
    "\n",
    "def quantize_image(img, block_size=1):\n",
    "    img = img.convert(\"RGB\")\n",
    "    img = img.resize((img.width // block_size, img.height // block_size), Image.NEAREST)\n",
    "    pixels = np.array(img)\n",
    "\n",
    "    for y in range(pixels.shape[0]):\n",
    "        for x in range(pixels.shape[1]):\n",
    "            pixels[y, x] = nearest_color(tuple(pixels[y, x]))\n",
    "\n",
    "    # Resize back to original dimensions\n",
    "    result = Image.fromarray(pixels.astype('uint8'))\n",
    "    result = result.resize((result.width * block_size, result.height * block_size), Image.NEAREST)\n",
    "    return result\n",
    "\n",
    "if __name__ == \"__main__\":\n",
    "    input_path = \"shield1.png\"\n",
    "    output_path = \"shield1_8bit_style.png\"\n",
    "    block_size = 2  # Increase for more pixelated effect\n",
    "\n",
    "    img = Image.open(input_path)\n",
    "    pixel_art = quantize_image(img, block_size=block_size)\n",
    "    pixel_art.save(output_path)\n",
    "\n",
    "    print(f\"Saved 8-bit styled image to: {output_path}\")\n"
   ]
  },
  {
   "cell_type": "code",
   "execution_count": 3,
   "id": "557e4656",
   "metadata": {},
   "outputs": [
    {
     "name": "stdout",
     "output_type": "stream",
     "text": [
      "Saved cleaned image to: shield2_solidified.png\n"
     ]
    }
   ],
   "source": [
    "from PIL import Image\n",
    "import numpy as np\n",
    "from sklearn.cluster import KMeans\n",
    "\n",
    "def solidify_colors(image_path, output_path, n_colors=12):\n",
    "    image = Image.open(image_path).convert(\"RGB\")\n",
    "    data = np.array(image)\n",
    "    pixels = data.reshape((-1, 3))\n",
    "\n",
    "    # Apply KMeans clustering to group colors\n",
    "    kmeans = KMeans(n_clusters=n_colors, random_state=42, n_init='auto')\n",
    "    labels = kmeans.fit_predict(pixels)\n",
    "    new_colors = kmeans.cluster_centers_.astype(np.uint8)\n",
    "\n",
    "    # Replace each pixel with its cluster center\n",
    "    quantized_pixels = new_colors[labels].reshape(data.shape)\n",
    "    result = Image.fromarray(quantized_pixels)\n",
    "    result.save(output_path)\n",
    "\n",
    "    print(f\"Saved cleaned image to: {output_path}\")\n",
    "\n",
    "if __name__ == \"__main__\":\n",
    "    input_path = \"shield2.png\"\n",
    "    output_path = \"shield2_solidified.png\"\n",
    "    solidify_colors(input_path, output_path, n_colors=12)\n"
   ]
  }
 ],
 "metadata": {
  "kernelspec": {
   "display_name": "Python 3",
   "language": "python",
   "name": "python3"
  },
  "language_info": {
   "codemirror_mode": {
    "name": "ipython",
    "version": 3
   },
   "file_extension": ".py",
   "mimetype": "text/x-python",
   "name": "python",
   "nbconvert_exporter": "python",
   "pygments_lexer": "ipython3",
   "version": "3.12.3"
  }
 },
 "nbformat": 4,
 "nbformat_minor": 5
}
