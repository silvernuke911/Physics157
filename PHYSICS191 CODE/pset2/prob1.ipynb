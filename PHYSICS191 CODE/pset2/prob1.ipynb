{
 "cells": [
  {
   "cell_type": "code",
   "execution_count": 1,
   "id": "b7e549de",
   "metadata": {},
   "outputs": [],
   "source": [
    "import numpy as np \n",
    "import matplotlib.pyplot as plt \n",
    "import pandas as pd \n",
    "\n",
    "def science_plot(fontsize = 9):\n",
    "    import scienceplots\n",
    "    plt.style.use(['science','grid','notebook'])\n",
    "    plt.rcParams.update({\n",
    "        'font.size'       : fontsize,    # General font size\n",
    "        'axes.titlesize'  : fontsize,    # Font size of the axes title\n",
    "        'axes.labelsize'  : fontsize,    # Font size of the axes labels\n",
    "        'xtick.labelsize' : fontsize,    # Font size of the x-axis tick labels\n",
    "        'ytick.labelsize' : fontsize,    # Font size of the y-axis tick labels\n",
    "        'legend.fontsize' : fontsize,    # Font size of the legend\n",
    "        'figure.titlesize': fontsize,    # Font size of the figure title\n",
    "        'legend.fancybox' : False,       # Disable the fancy box for legend\n",
    "        'legend.edgecolor': 'k',         # Set legend border color to black\n",
    "        'text.usetex'     : True,        # Use LaTeX for text rendering\n",
    "        'font.family'     : 'serif'      # Set font family to serif\n",
    "    })\n",
    "science_plot()"
   ]
  },
  {
   "cell_type": "code",
   "execution_count": 2,
   "id": "4f5d9bdc",
   "metadata": {},
   "outputs": [
    {
     "name": "stdout",
     "output_type": "stream",
     "text": [
      "g = 965.64 ± 1.46 cm/s²\n"
     ]
    }
   ],
   "source": [
    "# Data: lengths in cm, periods in s\n",
    "data = {\n",
    "    \"Length (cm)\": [51.2, 59.7, 68.2, 79.7, 88.3],\n",
    "    \"Period (s)\": [1.448, 1.566, 1.669, 1.804, 1.896]\n",
    "}\n",
    "# Create DataFrame\n",
    "df = pd.DataFrame(data)\n",
    "# Compute g = 4π²l / T²\n",
    "df[\"g (cm/s²)\"] = 4 * np.pi**2 * df[\"Length (cm)\"] / df[\"Period (s)\"]**2\n",
    "# Mean, Standard Deviation (SD), and Standard Deviation of the Mean (SDOM)\n",
    "mean_g = df[\"g (cm/s²)\"].mean()\n",
    "std_g = df[\"g (cm/s²)\"].std(ddof=1)\n",
    "sdom_g = std_g / np.sqrt(len(df))\n",
    "print(f\"g = {mean_g:.2f} ± {sdom_g:.2f} cm/s²\")"
   ]
  },
  {
   "cell_type": "code",
   "execution_count": 5,
   "id": "c9cf3474",
   "metadata": {},
   "outputs": [
    {
     "name": "stdout",
     "output_type": "stream",
     "text": [
      "Discrepancy = 13.96 cm/s², 9.59 times SDOM\n",
      "Is discrepancy near 10 SDOM? Yes\n"
     ]
    }
   ],
   "source": [
    "accepted_g = 979.6\n",
    "discrepancy = abs(mean_g - accepted_g)\n",
    "print(f\"Discrepancy = {discrepancy:.2f} cm/s², {discrepancy/sdom_g:.2f} times SDOM\")\n",
    "print(f\"Is discrepancy near 10 SDOM? {'Yes' if discrepancy > 10 * sdom_g * (0.95) else 'No'}\")\n"
   ]
  },
  {
   "cell_type": "code",
   "execution_count": 9,
   "id": "14d10cfe",
   "metadata": {},
   "outputs": [
    {
     "name": "stdout",
     "output_type": "stream",
     "text": [
      "Required average correction in l ≈ 1.45%\n"
     ]
    }
   ],
   "source": [
    "# Compute the required effective lengths\n",
    "df[\"l_eff (cm)\"] = accepted_g * df[\"Period (s)\"]**2 / (4 * np.pi**2)\n",
    "# Compute percent correction\n",
    "df[\"% Error in l\"] = 100 * (df[\"l_eff (cm)\"] - df[\"Length (cm)\"]) / df[\"Length (cm)\"]\n",
    "avg_percent_error = df[\"% Error in l\"].mean()\n",
    "print(f\"Required average correction in l ≈ {avg_percent_error:.2f}%\")"
   ]
  },
  {
   "cell_type": "code",
   "execution_count": 11,
   "id": "946e915e",
   "metadata": {},
   "outputs": [
    {
     "name": "stdout",
     "output_type": "stream",
     "text": [
      "Corrected g = 980.08 ± 0.96 cm/s²\n"
     ]
    }
   ],
   "source": [
    "# Correct length: add 1.00 cm (half of 2.00 cm diameter)\n",
    "df[\"Corrected l (cm)\"] = df[\"Length (cm)\"] + 1.00\n",
    "# Recalculate g with corrected length\n",
    "df[\"Corrected g (cm/s²)\"] = 4 * np.pi**2 * df[\"Corrected l (cm)\"] / df[\"Period (s)\"]**2\n",
    "# Recalculate mean and uncertainty\n",
    "corrected_mean_g = df[\"Corrected g (cm/s²)\"].mean()\n",
    "corrected_std_g = df[\"Corrected g (cm/s²)\"].std(ddof=1)\n",
    "corrected_sdom_g = corrected_std_g / np.sqrt(len(df))\n",
    "print(f\"Corrected g = {corrected_mean_g:.2f} ± {corrected_sdom_g:.2f} cm/s²\")"
   ]
  },
  {
   "cell_type": "code",
   "execution_count": 14,
   "id": "5d92b7f8",
   "metadata": {},
   "outputs": [
    {
     "name": "stdout",
     "output_type": "stream",
     "text": [
      "      N  Chauvenet z-threshold\n",
      "0     5                 1.2816\n",
      "1    10                 1.6449\n",
      "2    15                 1.8339\n",
      "3    20                 1.9600\n",
      "4    50                 2.3263\n",
      "5   100                 2.5758\n",
      "6   200                 2.8070\n",
      "7  1000                 3.2905\n"
     ]
    }
   ],
   "source": [
    "import numpy as np\n",
    "from scipy.stats import norm\n",
    "import pandas as pd\n",
    "\n",
    "# Sample sizes\n",
    "N_values = [5, 10, 15, 20, 50, 100, 200, 1000]\n",
    "\n",
    "# Compute z using Chauvenet's criterion\n",
    "z_values = [norm.ppf(1 - 1/(2*N)) for N in N_values]\n",
    "\n",
    "# Create a table\n",
    "table = pd.DataFrame({\n",
    "    'N': N_values,\n",
    "    'Chauvenet z-threshold': np.round(z_values, 4)\n",
    "})\n",
    "\n",
    "print(table)\n"
   ]
  },
  {
   "cell_type": "code",
   "execution_count": null,
   "metadata": {},
   "outputs": [
    {
     "name": "stdout",
     "output_type": "stream",
     "text": [
      "Best-fit R1 = 201.04 ± 0.57 ohms\n",
      "Best-fit R2 = 100.02 ± 0.24 ohms\n"
     ]
    }
   ],
   "source": [
    "import numpy as np\n",
    "from scipy.optimize import curve_fit\n",
    "# Data\n",
    "Rx = np.array([0, 20, 40, 60, 80, 100])\n",
    "I = np.array([0.374, 0.333, 0.303, 0.281, 0.263, 0.249])\n",
    "V = 25  # Volts\n",
    "# Model function: I(Rx) = V * [1/R1 + 1/(R2 + Rx)]\n",
    "def current_model(Rx, R1, R2):\n",
    "    return V * (1/R1 + 1/(R2 + Rx))\n",
    "# Nonlinear least squares fitting\n",
    "popt, pcov = curve_fit(current_model, Rx, I)\n",
    "R1_fit, R2_fit = popt\n",
    "R1_err, R2_err = np.sqrt(np.diag(pcov))\n",
    "# Output best-fit values and uncertainties\n",
    "print(f\"Best-fit R1 = {R1_fit:.2f} ± {R1_err:.2f} ohms\")\n",
    "print(f\"Best-fit R2 = {R2_fit:.2f} ± {R2_err:.2f} ohms\")\n"
   ]
  },
  {
   "cell_type": "code",
   "execution_count": 16,
   "id": "e8e2e1e7",
   "metadata": {},
   "outputs": [
    {
     "name": "stderr",
     "output_type": "stream",
     "text": [
      "C:\\Users\\verci\\AppData\\Local\\Temp\\ipykernel_14384\\2892399375.py:28: OptimizeWarning: Covariance of the parameters could not be estimated\n",
      "  popt_boot, _ = curve_fit(current_model, Rx_boot, I_boot, p0=[R1_init, R2_init])\n"
     ]
    },
    {
     "name": "stdout",
     "output_type": "stream",
     "text": [
      "R1: 95% CI = [199.68, 202.43] ohms\n",
      "R2: 95% CI = [99.06, 100.46] ohms\n"
     ]
    }
   ],
   "source": [
    "import numpy as np\n",
    "from scipy.optimize import curve_fit\n",
    "\n",
    "# Original data\n",
    "Rx_data = np.array([0, 20, 40, 60, 80, 100])\n",
    "I_data = np.array([0.374, 0.333, 0.303, 0.281, 0.263, 0.249])\n",
    "V = 25  # Volts\n",
    "\n",
    "# Model: I(Rx) = V * (1/R1 + 1/(R2 + Rx))\n",
    "def current_model(Rx, R1, R2):\n",
    "    return V * (1/R1 + 1/(R2 + Rx))\n",
    "\n",
    "# Initial nonlinear fit\n",
    "popt, _ = curve_fit(current_model, Rx_data, I_data)\n",
    "R1_init, R2_init = popt\n",
    "\n",
    "# Bootstrap\n",
    "n_bootstrap = 10000\n",
    "R1_samples = []\n",
    "R2_samples = []\n",
    "rng = np.random.default_rng()\n",
    "\n",
    "for _ in range(n_bootstrap):\n",
    "    indices = rng.integers(0, len(Rx_data), len(Rx_data))\n",
    "    Rx_boot = Rx_data[indices]\n",
    "    I_boot = I_data[indices]\n",
    "    try:\n",
    "        popt_boot, _ = curve_fit(current_model, Rx_boot, I_boot, p0=[R1_init, R2_init])\n",
    "        R1_samples.append(popt_boot[0])\n",
    "        R2_samples.append(popt_boot[1])\n",
    "    except RuntimeError:\n",
    "        continue  # skip fits that don't converge\n",
    "\n",
    "R1_samples = np.array(R1_samples)\n",
    "R2_samples = np.array(R2_samples)\n",
    "\n",
    "# Compute 95% confidence intervals\n",
    "R1_ci = np.percentile(R1_samples, [2.5, 97.5])\n",
    "R2_ci = np.percentile(R2_samples, [2.5, 97.5])\n",
    "\n",
    "# Results\n",
    "print(f\"R1: 95% CI = [{R1_ci[0]:.2f}, {R1_ci[1]:.2f}] ohms\")\n",
    "print(f\"R2: 95% CI = [{R2_ci[0]:.2f}, {R2_ci[1]:.2f}] ohms\")\n"
   ]
  },
  {
   "cell_type": "code",
   "execution_count": null,
   "id": "5ad8279f",
   "metadata": {},
   "outputs": [],
   "source": []
  }
 ],
 "metadata": {
  "kernelspec": {
   "display_name": "Python 3",
   "language": "python",
   "name": "python3"
  },
  "language_info": {
   "codemirror_mode": {
    "name": "ipython",
    "version": 3
   },
   "file_extension": ".py",
   "mimetype": "text/x-python",
   "name": "python",
   "nbconvert_exporter": "python",
   "pygments_lexer": "ipython3",
   "version": "3.12.3"
  }
 },
 "nbformat": 4,
 "nbformat_minor": 5
}
